{
 "cells": [
  {
   "cell_type": "markdown",
   "metadata": {},
   "source": [
    "# Assignment 6: Urban Street Networks and Interactive Web Maps\n",
    "\n",
    "## Myron Bañez"
   ]
  },
  {
   "cell_type": "markdown",
   "metadata": {
    "slideshow": {
     "slide_type": "slide"
    }
   },
   "source": [
    "## Part 1: Visualizing crash data in Philadelphia"
   ]
  },
  {
   "cell_type": "markdown",
   "metadata": {
    "slideshow": {
     "slide_type": "slide"
    }
   },
   "source": [
    "### 1.1 Load the geometry for the region being analyzed\n",
    "\n",
    "We'll analyze crashes in the \"Central\" planning district in Philadelphia, a rough approximation for Center City. [Planning districts](https://www.opendataphilly.org/dataset/planning-districts) can be loaded from Open Data Philly. Read the data into a GeoDataFrame using the following link:\n",
    "\n",
    "http://data.phl.opendata.arcgis.com/datasets/0960ea0f38f44146bb562f2b212075aa_0.geojson\n",
    "\n",
    "Select the \"Central\" district and extract the geometry polygon for only this district. After this part, you should have a polygon variable of type `shapely.geometry.polygon.Polygon`."
   ]
  },
  {
   "cell_type": "code",
   "execution_count": null,
   "metadata": {},
   "outputs": [],
   "source": [
    "import osmnx as ox\n",
    "from matplotlib import pyplot as plt\n",
    "import numpy as np\n",
    "import pandas as pd\n",
    "import geopandas as gpd\n",
    "import altair as alt"
   ]
  },
  {
   "cell_type": "code",
   "execution_count": null,
   "metadata": {},
   "outputs": [],
   "source": [
    "url = \"http://data.phl.opendata.arcgis.com/datasets/0960ea0f38f44146bb562f2b212075aa_0.geojson\"\n",
    "hoods = gpd.read_file(url)\n",
    "sel = hoods['DIST_NAME'].isin(['Central'])\n",
    "central = hoods.loc[sel]\n",
    "central"
   ]
  },
  {
   "cell_type": "code",
   "execution_count": null,
   "metadata": {},
   "outputs": [],
   "source": [
    "ax = ox.project_gdf(central).plot(fc=\"lightblue\", ec=\"gray\")\n",
    "ax.set_axis_off()\n",
    "\n",
    "central_outline = central.geometry.unary_union\n",
    "central_outline\n",
    "\n",
    "type(central_outline)"
   ]
  },
  {
   "cell_type": "markdown",
   "metadata": {
    "slideshow": {
     "slide_type": "slide"
    }
   },
   "source": [
    "### 1.2 Get the street network graph\n",
    "\n",
    "Use OSMnx to create a network graph (of type 'drive') from your polygon boundary in 1.1."
   ]
  },
  {
   "cell_type": "code",
   "execution_count": null,
   "metadata": {},
   "outputs": [],
   "source": [
    "G_central = ox.graph_from_polygon(central_outline, network_type='drive')\n",
    "\n",
    "ox.plot_graph(ox.project_graph(G_central), node_size=0);"
   ]
  },
  {
   "cell_type": "markdown",
   "metadata": {
    "slideshow": {
     "slide_type": "slide"
    }
   },
   "source": [
    "### 1.3 Convert your network graph edges to a GeoDataFrame\n",
    "\n",
    "Use OSMnx to create a GeoDataFrame of the network edges in the graph object from part 1.2. The GeoDataFrame should contain the edges but not the nodes from the network."
   ]
  },
  {
   "cell_type": "code",
   "execution_count": null,
   "metadata": {},
   "outputs": [],
   "source": [
    "type(G_central)\n",
    "\n",
    "central_edges = ox.graph_to_gdfs(G_central, \n",
    "                                edges=True, \n",
    "                                nodes=False)\n",
    "\n",
    "ax = central_edges.to_crs(epsg=3857).plot(color='gray')\n",
    "\n",
    "# add the neighborhood boundaries\n",
    "boundary = gpd.GeoSeries([central_outline], crs='EPSG:4326')\n",
    "boundary.to_crs(epsg=3857).plot(ax=ax, facecolor='none', edgecolor='red', linewidth=3, zorder=2)\n",
    "\n",
    "ax.set_axis_off()"
   ]
  },
  {
   "cell_type": "markdown",
   "metadata": {
    "slideshow": {
     "slide_type": "slide"
    }
   },
   "source": [
    "### 1.4 Load PennDOT crash data\n",
    "\n",
    "Data for 2021 crashes (of all types) is available at the following path:\n",
    "\n",
    "`./data/CRASH_PHILADELPHIA_2021.csv`\n",
    "\n",
    "The data was downloaded for Philadelphia County [from here](https://crashinfo.penndot.gov/PCIT/welcome.html)."
   ]
  },
  {
   "cell_type": "code",
   "execution_count": null,
   "metadata": {},
   "outputs": [],
   "source": [
    "penndot = pd.read_csv(\"./data/CRASH_PHILADELPHIA_2021.csv\")\n"
   ]
  },
  {
   "cell_type": "markdown",
   "metadata": {
    "slideshow": {
     "slide_type": "slide"
    }
   },
   "source": [
    "### 1.5 Convert the crash data to a GeoDataFrame\n",
    "\n",
    "You will need to use the `DEC_LAT` and `DEC_LONG` columns for latitude and longitude.\n",
    "\n",
    "The full data dictionary for the data is [available here](http://pennshare.maps.arcgis.com/sharing/rest/content/items/ffe20c6c3c594389b275c6772a281bcd/data)"
   ]
  },
  {
   "cell_type": "code",
   "execution_count": null,
   "metadata": {},
   "outputs": [],
   "source": [
    "penndot['geometry'] = gpd.points_from_xy(penndot['DEC_LONG'], penndot['DEC_LAT'])\n",
    "penndot = gpd.GeoDataFrame(penndot, geometry='geometry', crs=\"EPSG:4326\")\n",
    "penndot"
   ]
  },
  {
   "cell_type": "markdown",
   "metadata": {
    "slideshow": {
     "slide_type": "slide"
    }
   },
   "source": [
    "### 1.6 Trim the crash data to Center City\n",
    "\n",
    "1. Get the boundary of the edges data frame (from part 1.3). Accessing the `.geometry.unary_union.convex_hull` property will give you a nice outer boundary region.\n",
    "1. Trim the crashes using the `within()` function of the crash GeoDataFrame to find which crashes are within the boundary.\n",
    "\n",
    "There should be about 1,600 crashes within the Central district."
   ]
  },
  {
   "cell_type": "code",
   "execution_count": null,
   "metadata": {},
   "outputs": [],
   "source": [
    "central_edges_1 = central_edges.geometry.unary_union.convex_hull\n",
    "penndot1 = penndot.within(central_edges_1)\n",
    "penndot2 = penndot.loc[penndot1]\n",
    "penndot2"
   ]
  },
  {
   "cell_type": "markdown",
   "metadata": {},
   "source": [
    "### 1.7 Re-project our data into an approriate CRS\n",
    "\n",
    "We'll need to find the nearest edge (street) in our graph for each crash. To do this, `osmnx` will calculate the distance from each crash to the graph edges. For this calculation to be accurate, we need to convert from latitude/longitude \n",
    "\n",
    "**We'll convert the local state plane CRS for Philadelphia, EPSG=2272**\n",
    "\n",
    "#### Two steps:\n",
    "1. Project the graph object (`G`) using the `ox.project_graph`. Run `ox.project_graph?` to see the documentation for how to convert to a specific CRS. \n",
    "1. Project the crash data using the `.to_crs()` function."
   ]
  },
  {
   "cell_type": "code",
   "execution_count": null,
   "metadata": {},
   "outputs": [],
   "source": [
    "G_projected = ox.project_graph(G_central, to_crs=2272)\n",
    "ox.plot_graph(G_projected);\n",
    "\n",
    "penndot2 = penndot.to_crs(epsg=2272)\n",
    "penndot2"
   ]
  },
  {
   "cell_type": "markdown",
   "metadata": {
    "slideshow": {
     "slide_type": "slide"
    }
   },
   "source": [
    "### 1.8 Find the nearest edge for each crash\n",
    "\n",
    "See: `ox.distance.nearest_edges()`. It takes three arguments:\n",
    "\n",
    "- the network graph\n",
    "- the longitude of your crash data (the `x` attribute of the `geometry` column)\n",
    "- the latitude of your crash data (the `y` attribute of the `geometry` column)\n",
    "\n",
    "You will get a numpy array with 3 columns that represent `(u, v, key)` where each `u` and `v` are the node IDs that the edge links together. We will ignore the `key` value for our analysis."
   ]
  },
  {
   "cell_type": "code",
   "execution_count": null,
   "metadata": {},
   "outputs": [],
   "source": [
    "crash_x = penndot2.geometry.x.dropna()\n",
    "crash_x"
   ]
  },
  {
   "cell_type": "code",
   "execution_count": null,
   "metadata": {},
   "outputs": [],
   "source": [
    "crash_y = penndot2.geometry.y.dropna()\n",
    "crash_y"
   ]
  },
  {
   "cell_type": "code",
   "execution_count": null,
   "metadata": {},
   "outputs": [],
   "source": [
    "central_near_edge = ox.distance.nearest_edges(G_projected,  crash_x, crash_y) \n",
    "central_near_edge"
   ]
  },
  {
   "cell_type": "markdown",
   "metadata": {
    "slideshow": {
     "slide_type": "slide"
    }
   },
   "source": [
    "### 1.9 Calculate the total number of crashes per street\n",
    "\n",
    "1. Make a DataFrame from your data from part 1.7 with three columns, `u`, `v`, and `key` (we will only use the `u` and `v` columns)\n",
    "1. Group by `u` and `v` and calculate the size\n",
    "1. Reset the index and name your `size()` column as `crash_count`\n",
    "\n",
    "After this step you should have a DataFrame with three columns: `u`, `v`, and `crash_count`."
   ]
  },
  {
   "cell_type": "code",
   "execution_count": null,
   "metadata": {},
   "outputs": [],
   "source": [
    "central_near_edge1 = pd.DataFrame(central_near_edge, columns = ['u','v', 'key'])\n",
    "central_near_edge1\n",
    "\n",
    "central_near_edge2 = central_near_edge1.groupby(['u', 'v'])['key'].size()\n",
    "central_near_edge2 = central_near_edge2.reset_index()\n",
    "central_near_edge2\n",
    "\n",
    "central_near_edge2.rename(columns = {'key': 'crash_count'}, inplace = True)\n",
    "central_near_edge2"
   ]
  },
  {
   "cell_type": "markdown",
   "metadata": {
    "slideshow": {
     "slide_type": "slide"
    }
   },
   "source": [
    "### 1.10 Merge your edges GeoDataFrame and crash count DataFrame\n",
    "\n",
    "You can use pandas to merge them on the `u` and `v` columns. This will associate the total crash count with each edge in the street network. \n",
    "\n",
    "**Tips:** \n",
    "   - Use a `left` merge where the first argument of the merge is the edges GeoDataFrame. This ensures no edges are removed during the merge.\n",
    "   - Use the `fillna(0)` function to fill in missing crash count values with zero."
   ]
  },
  {
   "cell_type": "code",
   "execution_count": null,
   "metadata": {},
   "outputs": [],
   "source": [
    "edges_data = ox.graph_to_gdfs(G_projected, \n",
    "                                edges=True, \n",
    "                                nodes=False)\n",
    "\n",
    "edges_data\n",
    "\n",
    "\n",
    "final_data = edges_data.merge(central_near_edge2, left_on='u', right_on='v')\n",
    "final_data = final_data.fillna(0)\n",
    "final_data"
   ]
  },
  {
   "cell_type": "markdown",
   "metadata": {},
   "source": [
    "### 1.11 Calculate a \"Crash Index\"\n",
    "\n",
    "Let's calculate a \"crash index\" that provides a normalized measure of the crash frequency per street. To do this, we'll need to:\n",
    "\n",
    "1. Calculate the total crash count divided by the street length, using the `length` column\n",
    "1. Perform a log transformation of the crash/length variable — use numpy's `log10()` function\n",
    "1. Normalize the index from 0 to 1 (see the lecture notes for an example of this transformation)\n",
    "\n",
    "**Note: since the crash index involves a log transformation, you should only calculate the index for streets where the crash count is greater than zero**.\n",
    "\n",
    "After this step, you should have a new column in the data frame from 1.9 that includes a column called part 1.9."
   ]
  },
  {
   "cell_type": "code",
   "execution_count": null,
   "metadata": {},
   "outputs": [],
   "source": [
    "final_data[\"crash_index\"] = (final_data[\"crash_count\"] / final_data[\"length\"])\n",
    "final_data[\"crash_index_log\"] = np.log10(final_data['crash_index'])\n",
    "final_data\n",
    "\n",
    "# Minimum\n",
    "min_val = final_data['crash_index_log'].min()\n",
    "# Maximum\n",
    "max_val = final_data['crash_index_log'].max()\n",
    "# Calculate a normalized column\n",
    "normalized = (final_data['crash_index_log'] - min_val) / (max_val - min_val)\n",
    "# Add to the dataframe\n",
    "final_data['part 1.9'] = normalized\n",
    "\n",
    "final_data"
   ]
  },
  {
   "cell_type": "markdown",
   "metadata": {},
   "source": [
    "### 1.12 Plot a histogram of the crash index values\n",
    "\n",
    "Use matplotlib's `hist()` function to plot the crash index values from the previous step.\n",
    "\n",
    "You should see that the index values are Gaussian-distributed, providing justification for why we log-transformed!"
   ]
  },
  {
   "cell_type": "code",
   "execution_count": null,
   "metadata": {},
   "outputs": [],
   "source": [
    "hist_data = final_data['part 1.9']\n",
    "plt.hist(hist_data)\n",
    "plt.show() "
   ]
  },
  {
   "cell_type": "markdown",
   "metadata": {
    "slideshow": {
     "slide_type": "slide"
    }
   },
   "source": [
    "### 1.13 Plot the street networks, colored by the crash index\n",
    "\n",
    "You can use GeoPandas to make the plot, coloring the streets by the crash index column.\n",
    "\n",
    "**Tip:** if you use the viridis color map, try setting the facecolor of the axes as black for better constrast of the colors."
   ]
  },
  {
   "cell_type": "code",
   "execution_count": null,
   "metadata": {},
   "outputs": [],
   "source": [
    "ax.set_facecolor(\"black\")\n",
    "\n",
    "final_data.plot(column='part 1.9', cmap='magma_r',legend=True)"
   ]
  },
  {
   "cell_type": "markdown",
   "metadata": {},
   "source": [
    "### 1.14 An interactive map of the crash index\n",
    "\n",
    "In this part, we'll use Folium to make an interactive version of the map from the previous section. In this part, you will need to:\n",
    "\n",
    "1. Initialize a Folium map centered on Philadelphia. The \"Cartodb dark_matter\" will be best if you want to use the viridis color map.\n",
    "1. Add the street edges polygons to the map using the `Folium.GeoJson()` function.\n",
    "1. Use a style function that applies a color to the edge geometries based on the value of the \"crash index\" column. \n",
    "    - See the crash index is defined from 0 to 1, you can pass this directly to a color map object, as in lecture.\n",
    "    - You will need to convert the RGB color returned by the color map to a hex string\n",
    "    - You can also set the \"weight\" attribute to change the width of the streets.\n",
    "1. Add a GeoJsonTooltip object that includes the street name and crash index value so you can quickly identify which streets have the highest index values.\n",
    "\n",
    "**Note:** if the Folium map is not rendering in the notebook, try removing unused columns — you should really only need the \"geometry\", \"crash_index\", and \"name\" columns."
   ]
  },
  {
   "cell_type": "code",
   "execution_count": null,
   "metadata": {},
   "outputs": [],
   "source": [
    "import folium\n",
    "import matplotlib.colors as mcolors\n",
    "\n",
    "cmap = plt.get_cmap('RdPu')\n",
    "cmap(0)\n",
    "mcolors.rgb2hex(cmap(0.0))\n",
    "mcolors.rgb2hex(cmap(1.0))\n",
    "\n",
    "def get_style(feature):\n",
    "    \"\"\"\n",
    "    Given an input GeoJSON feature, return a style dict.\n",
    "    \n",
    "    Notes\n",
    "    -----\n",
    "    The color in the style dict is determined by the \n",
    "    \"percent_no_internet_normalized\" column in the \n",
    "    input \"feature\".\n",
    "    \"\"\"\n",
    "    # Get the data value from the feature\n",
    "    value = feature['properties']['part 1.9']\n",
    "    \n",
    "    # Evaluate the color map\n",
    "    # NOTE: value must between 0 and 1\n",
    "    rgb_color = cmap(value) # this is an RGB tuple\n",
    "    \n",
    "    # Convert to hex string\n",
    "    color = mcolors.rgb2hex(rgb_color)\n",
    "    \n",
    "    # Return the style dictionary\n",
    "    return {'weight': 0.5, 'color': color, 'fillColor': color, \"fillOpacity\": 0.75}\n",
    "\n",
    "final_data2 = final_data.drop(['osmid', 'oneway', 'highway', 'reversed', 'length', 'maxspeed', 'tunnel', 'u', 'v'], axis=1)\n",
    "final_data2 = final_data2.drop(['lanes', 'bridge', 'ref', 'width', 'service', 'access', 'junction', 'crash_index', 'crash_index_log', 'normalized'], axis=1)\n",
    "final_data2"
   ]
  },
  {
   "cell_type": "code",
   "execution_count": null,
   "metadata": {},
   "outputs": [],
   "source": [
    "m = folium.Map(\n",
    "    location=[39.99, -75.13],\n",
    "    zoom_start=11,\n",
    "    tiles = 'Cartodb dark_matter'\n",
    ")\n",
    "\n",
    "m"
   ]
  },
  {
   "cell_type": "code",
   "execution_count": null,
   "metadata": {},
   "outputs": [],
   "source": [
    "folium.GeoJson(\n",
    "    final_data2.to_crs(epsg=4326), \n",
    "    name='Philadelphia ZIP_codes',\n",
    "    style_function=get_style,\n",
    "    highlight_function=get_highlighted_style,\n",
    "    tooltip=folium.GeoJsonTooltip(['name','part 1.9'])\n",
    ").add_to(m)\n"
   ]
  },
  {
   "cell_type": "code",
   "execution_count": null,
   "metadata": {},
   "outputs": [],
   "source": [
    "m"
   ]
  },
  {
   "cell_type": "markdown",
   "metadata": {},
   "source": [
    "## Part 2: Interactive web maps with Folium\n",
    "\n",
    "In this part, you'll visualize a geospatial data set, queried using an API, using Folium in Python. The choice of data set is up to you, but must satisfy a few requirements:\n",
    "\n",
    "- The data must be pulled using an API\n",
    "- The data should be in GeoJSON format and be Point features (latitude, longitude)\n",
    "- Use Folium to create a map showing a heat map of the data, using the Leaflet.heat plugin\n",
    "\n",
    "#### Notes\n",
    "\n",
    "- See [lecture 10A](https://github.com/MUSA-550-Fall-2022/week-10/blob/main/lecture-10A.ipynb) for example maps using the data set of Philadelphia building permits. **Note: you must choose a data set other than the building permits data set that we used in class**.\n",
    "- There are several options for data on OpenDataPhilly — any data set hosted on the CARTO SQL database with associated API documentation will work, similar to the shootings data set (you can use the `carto2gpd` library to do the querying).\n",
    "- You can also choose a different API to use, as long as it satisfies the above requirements. To query the API, you can either use the `requests` module in Python or use `geopandas` directly to read the geojson returned by the API. For example:\n",
    "  - the [Philadelphia bike share Indego](https://www.rideindego.com/about/data/) has an API of live station data in GeoJSON format: https://www.rideindego.com/stations/json/\n",
    "  - Data.gov maintains a list of APIs in GeoJSON format: https://catalog.data.gov/dataset?res_format=GeoJSON. Note that not all of these are Point features\n"
   ]
  },
  {
   "cell_type": "code",
   "execution_count": null,
   "metadata": {},
   "outputs": [],
   "source": [
    "import carto2gpd\n",
    "url = \"https://phl.carto.com/api/v2/sql\"\n",
    "table_name = \"incidents_part1_part2\"\n",
    "\n",
    "where = f\"dispatch_date LIKE '2020-%'\"\n",
    "where += \"and text_general_code in ('Thefts')\"\n",
    "where += \"and dc_dist in ('16')\"\n",
    "\n",
    "crime = carto2gpd.get(url, table_name, where=where)\n",
    "crime"
   ]
  },
  {
   "cell_type": "code",
   "execution_count": null,
   "metadata": {},
   "outputs": [],
   "source": [
    "crime1 = crime.dropna()\n",
    "\n",
    "crime_coords = crime1[['point_y', 'point_x']].values\n",
    "crime_coords"
   ]
  },
  {
   "cell_type": "code",
   "execution_count": null,
   "metadata": {},
   "outputs": [],
   "source": [
    "from folium.plugins import HeatMap\n",
    "\n",
    "\n",
    "# Initialize map\n",
    "m = folium.Map(\n",
    "    location=[39.99, -75.13],\n",
    "    tiles='Cartodb Positron',\n",
    "    zoom_start=12\n",
    ")\n",
    "\n",
    "\n",
    "# Add heat map coordinates\n",
    "HeatMap(crime_coords).add_to(m)\n",
    "\n",
    "m"
   ]
  }
 ],
 "metadata": {
  "kernelspec": {
   "display_name": "Python 3 (ipykernel)",
   "language": "python",
   "name": "python3"
  },
  "language_info": {
   "codemirror_mode": {
    "name": "ipython",
    "version": 3
   },
   "file_extension": ".py",
   "mimetype": "text/x-python",
   "name": "python",
   "nbconvert_exporter": "python",
   "pygments_lexer": "ipython3",
   "version": "3.9.13"
  }
 },
 "nbformat": 4,
 "nbformat_minor": 4
}
